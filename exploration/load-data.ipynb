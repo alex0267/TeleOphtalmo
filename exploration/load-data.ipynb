{
 "cells": [
  {
   "cell_type": "code",
   "execution_count": 1,
   "metadata": {},
   "outputs": [],
   "source": [
    "import boto3 \n",
    "import pandas as pd \n",
    "from sagemaker import get_execution_role \n",
    "role = get_execution_role() \n",
    "bucket='teleophtalmo-sagemaker' \n",
    "data_key = 'B-Disease-Grading-format.zip'"
   ]
  },
  {
   "cell_type": "code",
   "execution_count": 2,
   "metadata": {},
   "outputs": [
    {
     "name": "stdout",
     "output_type": "stream",
     "text": [
      "download: s3://teleophtalmo-sagemaker/B-Disease-Grading-format.zip to tmp/B-Disease-Grading.zip\n"
     ]
    }
   ],
   "source": [
    "# Copying in terminal command the zip file from the bucket to the instance tmp\n",
    "\n",
    "! aws s3 cp s3://teleophtalmo-sagemaker/B-Disease-Grading-format.zip tmp/B-Disease-Grading.zip\n",
    "    \n",
    "# Another way for a simple file : read it directly from S3 bucket\n",
    "# data_location = 's3://{}/{}'.format(bucket, data_key) \n",
    "# df = pd.read_csv(data_location)"
   ]
  },
  {
   "cell_type": "code",
   "execution_count": 3,
   "metadata": {},
   "outputs": [],
   "source": [
    "# Unzipping the file and saving it in the instance tmp\n",
    "import zipfile\n",
    "local_zip = 'tmp/B-Disease-Grading.zip' # local path of downloaded .zip file\n",
    "zip_ref = zipfile.ZipFile(local_zip, 'r')\n",
    "zip_ref.extractall('/tmp/disease-unzip') # contents are extracted to '/tmp' folder\n",
    "zip_ref.close()"
   ]
  },
  {
   "cell_type": "code",
   "execution_count": 12,
   "metadata": {},
   "outputs": [],
   "source": [
    "# creating a glob with all the pictures\n",
    "\n",
    "import glob\n",
    "files = glob.glob('/tmp/disease-unzip/B-Disease-Grading-format/Original-Images/Training-Set/*')\n"
   ]
  },
  {
   "cell_type": "code",
   "execution_count": 15,
   "metadata": {},
   "outputs": [],
   "source": [
    "# saving the unzip pictures in the 'training_data' folder\n",
    "\n",
    "import os\n",
    "import shutil\n",
    "train_dir = 'training_data'\n",
    "\n",
    "os.mkdir(train_dir) if not os.path.isdir(train_dir) else None\n",
    "\n",
    "for fn in files:\n",
    "    shutil.copy(fn, train_dir)"
   ]
  }
 ],
 "metadata": {
  "kernelspec": {
   "display_name": "Python 3",
   "language": "python",
   "name": "python3"
  },
  "language_info": {
   "codemirror_mode": {
    "name": "ipython",
    "version": 3
   },
   "file_extension": ".py",
   "mimetype": "text/x-python",
   "name": "python",
   "nbconvert_exporter": "python",
   "pygments_lexer": "ipython3",
   "version": "3.6.8"
  }
 },
 "nbformat": 4,
 "nbformat_minor": 2
}
